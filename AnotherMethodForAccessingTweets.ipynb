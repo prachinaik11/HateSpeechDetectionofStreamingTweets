{
 "cells": [
  {
   "cell_type": "code",
   "execution_count": 2,
   "id": "7781fa3b",
   "metadata": {},
   "outputs": [],
   "source": [
    "# import the module\n",
    "import tweepy\n",
    "\n",
    "# assign the values accordingly\n",
    "consumer_key = \"JOjFmaRMeiLQhq8yw7ill4PSw\"\n",
    "consumer_secret = \"K1F4MyD2e5wljBlQXaLBqQrMcDnrXn4R4I4yhnWKypIAVxi8Xy\"\n",
    "access_token = \"1415409427-wMjuEBtJ9Afjrk3YKVSOAOYIA0fDOWUGtOVnNU8\"\n",
    "access_token_secret = \"8JAtfHZACNwrKEYn6lQKcVjrWffwSvaA137kxqnlWtWu2\"\n"
   ]
  },
  {
   "cell_type": "code",
   "execution_count": 3,
   "id": "66b88a84",
   "metadata": {},
   "outputs": [],
   "source": [
    "# authorization of consumer key and consumer secret\n",
    "auth = tweepy.OAuthHandler(consumer_key, consumer_secret)\n",
    "\n",
    "# set access to user's access key and access secret \n",
    "auth.set_access_token(access_token, access_token_secret)"
   ]
  },
  {
   "cell_type": "code",
   "execution_count": 4,
   "id": "2fef8b60",
   "metadata": {},
   "outputs": [
    {
     "name": "stdout",
     "output_type": "stream",
     "text": [
      "<class 'tweepy.models.ResultSet'>\n",
      "timesofindia\n",
      "Police: Hostage situation in #German city of #Dresden https://t.co/eOPkJiSPfb\n",
      "thekiranbedi\n",
      "A multifaceted person who reinvents himself all the time. Plenty to learn from him. @AnupamPKher @DemonstrativeLE… https://t.co/HE7vJNbWCv\n",
      "timesofindia\n",
      "Shimla, #HimachalPradesh| \"We will run a very good govt. Rahul Gandhi, Priyanka Gandhi, and Mallikarjun Kharge will… https://t.co/IVHaG57kog\n",
      "timesofindia\n",
      "#Shimla | \"We are now going to the Raj Bhawan,\" says Congress observer and Chhattisgarh CM #BhupeshBaghel after the… https://t.co/DjANU0iOmt\n",
      "timesofindia\n",
      "We accept the decision taken by #Congress high command: Himachal Pradesh Congress Chief #PratibhaVirbhadraSingh https://t.co/7Yrw6gLqY2\n",
      "timesofindia\n",
      "In #Maharashtra, Prime Minister #NarendraModi will lay the foundation stone and inaugurate projects worth Rs 75,000… https://t.co/j8sOtNVBws\n",
      "narendramodi\n",
      "আমাৰ ইতিহাসত অসম আন্দোলনৰ এক বিশেষ স্থান আছে। আজি শ্বহীদ দিৱসৰ দিনা এই আন্দোলনত অংশগ্ৰহণ কৰা সকলোৰে বীৰত্বপূৰ্ণ সাহ… https://t.co/75pLdY7lVi\n",
      "timesofindia\n",
      "#BJP’s destiny designed: Gujarat House’s lotus shape set in 1964 https://t.co/yn3WkvROr9\n",
      "narendramodi\n",
      "The Assam Movement has a special place in our history. Today, on Swahid Diwas, I recall the heroic courage of all t… https://t.co/8oNAh5n9fd\n",
      "timesofindia\n",
      "#Samsung is offering deals on premium TVs during Big Game Fest: All details \n",
      "\n",
      "https://t.co/PCkje95lPf \n",
      "\n",
      "via @gadgetsnow\n"
     ]
    }
   ],
   "source": [
    "# calling the api \n",
    "api = tweepy.API(auth)\n",
    "\n",
    "# fetching the statuses\n",
    "statuses = api.home_timeline(count = 10)\n",
    "print(type(statuses))\n",
    "# printing the screen names of each status\n",
    "for status in statuses:\n",
    "\tprint(status.user.screen_name)\n",
    "\tprint(status.text)"
   ]
  },
  {
   "cell_type": "code",
   "execution_count": null,
   "id": "4d515dbb",
   "metadata": {},
   "outputs": [],
   "source": []
  }
 ],
 "metadata": {
  "kernelspec": {
   "display_name": "Virtual_env1",
   "language": "python",
   "name": "virtual_env1"
  },
  "language_info": {
   "codemirror_mode": {
    "name": "ipython",
    "version": 3
   },
   "file_extension": ".py",
   "mimetype": "text/x-python",
   "name": "python",
   "nbconvert_exporter": "python",
   "pygments_lexer": "ipython3",
   "version": "3.9.13"
  }
 },
 "nbformat": 4,
 "nbformat_minor": 5
}
